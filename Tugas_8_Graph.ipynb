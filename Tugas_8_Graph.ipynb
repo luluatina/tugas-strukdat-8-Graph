{
  "nbformat": 4,
  "nbformat_minor": 0,
  "metadata": {
    "colab": {
      "provenance": [],
      "authorship_tag": "ABX9TyPibgwTp1hhb/e/fuCtdip4",
      "include_colab_link": true
    },
    "kernelspec": {
      "name": "python3",
      "display_name": "Python 3"
    },
    "language_info": {
      "name": "python"
    }
  },
  "cells": [
    {
      "cell_type": "markdown",
      "metadata": {
        "id": "view-in-github",
        "colab_type": "text"
      },
      "source": [
        "<a href=\"https://colab.research.google.com/github/luluatina/tugas-strukdat-8-Graph/blob/main/Tugas_8_Graph.ipynb\" target=\"_parent\"><img src=\"https://colab.research.google.com/assets/colab-badge.svg\" alt=\"Open In Colab\"/></a>"
      ]
    },
    {
      "cell_type": "code",
      "execution_count": null,
      "metadata": {
        "colab": {
          "base_uri": "https://localhost:8080/"
        },
        "id": "ggcVFn57snla",
        "outputId": "d2ecc5db-b76d-4720-dbd9-c3934210608a"
      },
      "outputs": [
        {
          "output_type": "stream",
          "name": "stdout",
          "text": [
            "Graf tak berarah:\n",
            "A: ['B', 'C']\n",
            "B: ['A', 'C', 'D']\n",
            "C: ['A', 'B', 'E']\n",
            "D: ['B', 'E']\n",
            "E: ['C', 'D', 'A']\n",
            "\n",
            "BFS dari simpul A:\n",
            "A B C D E \n",
            "DFS dari simpul A:\n",
            "A B C E D \n",
            "\n",
            "Urutan kunjungan BFS (list):\n",
            "['A', 'B', 'C', 'D', 'E']\n",
            "\n",
            "Path dari A ke D:\n",
            "['A', 'B', 'C', 'E', 'D']\n",
            "\n",
            "Apakah graf terhubung?\n",
            "Ya\n"
          ]
        }
      ],
      "source": [
        "# 1. Buat graf tak berarah\n",
        "graph = {\n",
        "    'A': ['B', 'C'],\n",
        "    'B': ['A', 'C', 'D'],\n",
        "    'C': ['A', 'B', 'E'],\n",
        "    'D': ['B', 'E'],\n",
        "    'E': ['C', 'D', 'A']\n",
        "}\n",
        "\n",
        "def print_graph(graph):\n",
        "    print(\"Graf tak berarah:\")\n",
        "    for node in graph:\n",
        "        print(f\"{node}: {graph[node]}\")\n",
        "\n",
        "print_graph(graph)\n",
        "\n",
        "# 2. Implementasi BFS dan DFS\n",
        "from collections import deque\n",
        "\n",
        "def bfs(graph, start):\n",
        "    visited = set()\n",
        "    queue = deque([start])\n",
        "    while queue:\n",
        "        node = queue.popleft()\n",
        "        if node not in visited:\n",
        "            print(node, end=' ')\n",
        "            visited.add(node)\n",
        "            queue.extend(neighbor for neighbor in graph[node] if neighbor not in visited)\n",
        "    print()\n",
        "\n",
        "def dfs(graph, start, visited=None):\n",
        "    if visited is None:\n",
        "        visited = set()\n",
        "    visited.add(start)\n",
        "    print(start, end=' ')\n",
        "    for neighbor in graph[start]:\n",
        "        if neighbor not in visited:\n",
        "            dfs(graph, neighbor, visited)\n",
        "\n",
        "print(\"\\nBFS dari simpul A:\")\n",
        "bfs(graph, 'A')\n",
        "\n",
        "print(\"DFS dari simpul A:\")\n",
        "dfs(graph, 'A')\n",
        "print()\n",
        "\n",
        "# 3. Modifikasi BFS agar mengembalikan list urutan kunjungan\n",
        "def bfs_list(graph, start):\n",
        "    visited = set()\n",
        "    queue = deque([start])\n",
        "    order = []\n",
        "    while queue:\n",
        "        node = queue.popleft()\n",
        "        if node not in visited:\n",
        "            visited.add(node)\n",
        "            order.append(node)\n",
        "            queue.extend(neighbor for neighbor in graph[node] if neighbor not in visited)\n",
        "    return order\n",
        "\n",
        "print(\"\\nUrutan kunjungan BFS (list):\")\n",
        "print(bfs_list(graph, 'A'))\n",
        "\n",
        "# 4. Fungsi find_path menggunakan DFS\n",
        "def find_path(graph, start, end, path=None):\n",
        "    if path is None:\n",
        "        path = []\n",
        "    path.append(start)\n",
        "    if start == end:\n",
        "        return path\n",
        "    for neighbor in graph[start]:\n",
        "        if neighbor not in path:\n",
        "            new_path = find_path(graph, neighbor, end, path.copy())\n",
        "            if new_path:\n",
        "                return new_path\n",
        "    return None\n",
        "\n",
        "print(\"\\nPath dari A ke D:\")\n",
        "print(find_path(graph, 'A', 'D'))\n",
        "\n",
        "# 5. Fungsi is_connected\n",
        "def is_connected(graph):\n",
        "    start = next(iter(graph))  # ambil salah satu simpul\n",
        "    visited = set()\n",
        "\n",
        "    def dfs_util(node):\n",
        "        visited.add(node)\n",
        "        for neighbor in graph[node]:\n",
        "            if neighbor not in visited:\n",
        "                dfs_util(neighbor)\n",
        "\n",
        "    dfs_util(start)\n",
        "    return len(visited) == len(graph)\n",
        "\n",
        "print(\"\\nApakah graf terhubung?\")\n",
        "print(\"Ya\" if is_connected(graph) else \"Tidak\")\n"
      ]
    }
  ]
}